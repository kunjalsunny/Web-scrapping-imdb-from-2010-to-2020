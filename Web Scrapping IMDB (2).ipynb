{
 "cells": [
  {
   "cell_type": "code",
   "execution_count": null,
   "metadata": {},
   "outputs": [],
   "source": [
    "pip install bs4"
   ]
  },
  {
   "cell_type": "code",
   "execution_count": null,
   "metadata": {},
   "outputs": [],
   "source": [
    "pip install seaborn"
   ]
  },
  {
   "cell_type": "code",
   "execution_count": null,
   "metadata": {
    "colab": {
     "base_uri": "https://localhost:8080/",
     "height": 423
    },
    "id": "jlTqbTEIIO-K",
    "outputId": "e24cb2fe-3ea5-4dac-e049-4f5483211f85"
   },
   "outputs": [],
   "source": [
    "from requests import get\n",
    "from bs4 import BeautifulSoup\n",
    "from warnings import warn\n",
    "from time import sleep\n",
    "import datetime\n",
    "from random import randint\n",
    "import numpy as np\n",
    "import pandas as pd\n",
    "import seaborn as sns\n",
    "from bs4 import BeautifulSoup\n",
    "import matplotlib.pyplot as plt\n",
    "import requests\n",
    "from urllib.parse import urlparse, parse_qs, urlunparse, urlencode\n",
    "\n",
    "\n",
    "HEADERS = {'User-Agent': 'Mozilla/5.0 (iPad; CPU OS 12_2 like Mac OS X) AppleWebKit/605.1.15 (KHTML, like Gecko) Mobile/15E148'}\n",
    "\n",
    "# Base URL with a year parameter\n",
    "base_url = 'https://www.imdb.com/search/title/?year='\n",
    "\n",
    "movie_array=[]\n",
    "\n",
    "# Define a list of years to loop through\n",
    "start_year = 2010\n",
    "end_year = 2011\n",
    "years = range(start_year, end_year)\n",
    "count=1\n",
    "max_requests = 70 # Set the maximum number of requests allowed\n",
    "request_count = 0\n",
    "pages = np.arange(1, 251, 50)\n",
    "\n",
    "for year in years:\n",
    "  # sleep(randint(8,15))\n",
    "   for page in pages:\n",
    "      #sleep(randint(8,15))\n",
    "    \n",
    "         #concatenating the url with and creating a target url\n",
    "      url_year = base_url + str(year)+'&start='+str(page)\n",
    "      try:\n",
    "              response = requests.get(url_year, headers=HEADERS)\n",
    "\n",
    "              #throw warning for status codes that are not 200\n",
    "              if response.status_code != 200:\n",
    "                 warn('Request: {}; Status code: {}'.format(requests, response.status_code))\n",
    "              soup = BeautifulSoup(response.text,'lxml')\n",
    "              request_count=request_count+1\n",
    "              \n",
    "              #check for max request\n",
    "              if(request_count>max_requests):\n",
    "                break\n",
    "              \n",
    "              #sleep(randint(8,15))\n",
    "\n",
    "              \n",
    "              container=soup.findAll('li',class_=\"ipc-metadata-list-summary-item\")\n",
    "              \n",
    "              for moviecontainer in container:\n",
    "                score= moviecontainer.find('span',class_=\"metacritic-score-box\")\n",
    "\n",
    "                if score is not None:\n",
    "                 \n",
    "                  title= moviecontainer.h3.text.strip('-,() ')[3:]\n",
    "                  # print(title)\n",
    "                  metascore=score.text.strip()\n",
    "                  \n",
    "                  #year_o= moviecontainer.find(class_='lister-item-year').text.strip('-,() ')[-4:]\n",
    "                  year= moviecontainer.find('span',class_=\"dli-title-metadata-item\").text\n",
    "                 \n",
    "                  rating= moviecontainer.find('span',class_=\"ipc-rating-star--imdb\").text.strip('-,() ').encode('utf-8','ignore').decode('utf-8')[0:4]\n",
    "                  \n",
    "                  # votes = moviecontainer.find('span', {'name': 'nv'}).text.strip()\n",
    "                  votes = moviecontainer.find('div', class_=\"jmcDPS\").text.strip('-,() ')[-6:]\n",
    "                  # print(votes)\n",
    "                  movie_array.append([title,year,metascore,rating,votes])\n",
    "\n",
    "\n",
    "\n",
    "      except requests.exceptions.RequestException as e:\n",
    "            print(f\"An error occurred: {e}\")\n",
    "\n",
    "df = pd.DataFrame(movie_array, columns=['Title','Year','Metascore','Rating','Votes'])\n",
    "df.head()\n"
   ]
  },
  {
   "cell_type": "code",
   "execution_count": null,
   "metadata": {
    "id": "JFniO_n2mSz1"
   },
   "outputs": [],
   "source": [
    "df.to_csv('web-scrapping-movies1.csv', encoding='utf-8')"
   ]
  },
  {
   "cell_type": "code",
   "execution_count": null,
   "metadata": {
    "colab": {
     "base_uri": "https://localhost:8080/",
     "height": 884
    },
    "id": "JWzlvGiFf9Ge",
    "outputId": "41a8ed6f-9834-4c54-abb4-b47441cc93e3"
   },
   "outputs": [],
   "source": [
    "# Plot histograms\n",
    "plt.figure(figsize=(15, 5))\n",
    "\n",
    "# Histogram for IMDb ratings\n",
    "plt.hist(df['Rating'], bins=10, edgecolor='k')\n",
    "plt.title('IMDB Ratings')\n",
    "plt.xlabel('IMDB Rating')\n",
    "plt.ylabel('Frequency')\n",
    "plt.xticks(rotation=45)\n",
    "plt.show()\n",
    "# Histogram for Metascore ratings\n",
    "plt.figure(figsize=(15, 5))\n",
    "plt.hist(df['Metascore'], bins=10, edgecolor='k', color='orange')\n",
    "plt.title('Metascore')\n",
    "plt.xlabel('Metascore')\n",
    "plt.ylabel('Frequency')\n",
    "plt.xticks(rotation=45)\n",
    "plt.show()\n",
    "\n",
    "\n",
    "\n",
    "\n",
    "\n"
   ]
  },
  {
   "cell_type": "code",
   "execution_count": null,
   "metadata": {},
   "outputs": [],
   "source": []
  }
 ],
 "metadata": {
  "colab": {
   "provenance": []
  },
  "kernelspec": {
   "display_name": "Python 3 (ipykernel)",
   "language": "python",
   "name": "python3"
  },
  "language_info": {
   "codemirror_mode": {
    "name": "ipython",
    "version": 3
   },
   "file_extension": ".py",
   "mimetype": "text/x-python",
   "name": "python",
   "nbconvert_exporter": "python",
   "pygments_lexer": "ipython3",
   "version": "3.11.4"
  }
 },
 "nbformat": 4,
 "nbformat_minor": 1
}
